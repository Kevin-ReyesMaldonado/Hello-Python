{
  "nbformat": 4,
  "nbformat_minor": 0,
  "metadata": {
    "colab": {
      "name": "PRACTICANDO.ipynb",
      "provenance": [],
      "collapsed_sections": [],
      "authorship_tag": "ABX9TyMcqE2F3sW3HaCiNygs+J40",
      "include_colab_link": true
    },
    "kernelspec": {
      "name": "python3",
      "display_name": "Python 3"
    },
    "language_info": {
      "name": "python"
    }
  },
  "cells": [
    {
      "cell_type": "markdown",
      "metadata": {
        "id": "view-in-github",
        "colab_type": "text"
      },
      "source": [
        "<a href=\"https://colab.research.google.com/github/Kevin-ReyesMaldonado/Hello-Python/blob/main/PRACTICANDO.ipynb\" target=\"_parent\"><img src=\"https://colab.research.google.com/assets/colab-badge.svg\" alt=\"Open In Colab\"/></a>"
      ]
    },
    {
      "cell_type": "markdown",
      "metadata": {
        "id": "e-fu3z5PiMI8"
      },
      "source": [
        "Ejercicio\n",
        "Escribir un programa que cree un diccionario simulando una cesta de la compra. El programa debe preguntar el artículo y su precio y añadir el par al diccionario, hasta que el usuario decida terminar. Después se debe mostrar por pantalla la lista de la compra y el coste total, con el siguiente formato"
      ]
    },
    {
      "cell_type": "code",
      "metadata": {
        "colab": {
          "base_uri": "https://localhost:8080/"
        },
        "id": "hLwIfTh3i4hb",
        "outputId": "57c43146-d003-40fb-d931-46d2d5220338"
      },
      "source": [
        "cesta = {}\n",
        "while True:\n",
        "  articulo = input('Artículo: ')\n",
        "  precio = float(input('Precio del artículo: '))\n",
        "  precio = round(precio,2)\n",
        "  cesta[articulo] = precio\n",
        "  #cesta.update({articulo:precio})\n",
        "  pregunta = input('\\nTerminar las comprar?(s/n): ')\n",
        "  if pregunta == 's' or pregunta == 'S':\n",
        "    break\n",
        "  \n",
        "print(cesta)\n",
        "for a in cesta:\n",
        "  print(a,'=>',cesta[a])"
      ],
      "execution_count": 23,
      "outputs": [
        {
          "output_type": "stream",
          "name": "stdout",
          "text": [
            "Artículo: Jabón\n",
            "Precio del artículo: 3.50\n",
            "\n",
            "Terminar las comprar?(s/n): n\n",
            "Artículo: Legía\n",
            "Precio del artículo: 6\n",
            "\n",
            "Terminar las comprar?(s/n): s\n",
            "{'Jabón': 3.5, 'Legía': 6.0}\n",
            "Jabón => 3.5\n",
            "Legía => 6.0\n"
          ]
        }
      ]
    }
  ]
}